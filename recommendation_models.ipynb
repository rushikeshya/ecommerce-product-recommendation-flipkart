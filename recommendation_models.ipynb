{
 "cells": [
  {
   "cell_type": "markdown",
   "id": "faa6d721",
   "metadata": {},
   "source": [
    "# Recommendation Model\n",
    "1. [Import Libraries](#1)\n",
    "2. [Load Processed Data](#2)\n",
    "3. [Content-Based Filtering](#3)\n",
    "4. [Collaborative Filtering](#4)\n",
    "5. [Initialize Recommenders](#5)\n",
    "6. [Saving Models](#6)"
   ]
  },
  {
   "cell_type": "markdown",
   "id": "5bb16b59",
   "metadata": {},
   "source": [
    "<a name=\"1\"></a>\n",
    "## 1. Import Libraries"
   ]
  },
  {
   "cell_type": "code",
   "execution_count": 1,
   "id": "c798618b",
   "metadata": {},
   "outputs": [],
   "source": [
    "import pandas as pd\n",
    "import numpy as np\n",
    "from sklearn.metrics.pairwise import cosine_similarity\n",
    "from sklearn.neighbors import NearestNeighbors\n",
    "from scipy.sparse import csr_matrix\n",
    "import pickle"
   ]
  },
  {
   "cell_type": "markdown",
   "id": "7321859e",
   "metadata": {},
   "source": [
    "<a name = \"2\" ></a>\n",
    "## 2. Loading Processesd Data"
   ]
  },
  {
   "cell_type": "code",
   "execution_count": 2,
   "id": "445a7882",
   "metadata": {},
   "outputs": [],
   "source": [
    "df = pd.read_csv('processed_products.csv')"
   ]
  },
  {
   "cell_type": "markdown",
   "id": "b30f6fc8",
   "metadata": {},
   "source": [
    "<a name=\"3\"></a>\n",
    "## 3. Content-Based Filtering"
   ]
  },
  {
   "cell_type": "code",
   "execution_count": 3,
   "id": "467392d2",
   "metadata": {},
   "outputs": [],
   "source": [
    "class ContentBasedRecommender:\n",
    "    def __init__(self, data):\n",
    "        self.df = data\n",
    "        self.similarity_matrix = None\n",
    "\n",
    "    def prepare_similarity_matrix(self):\n",
    "        features = ['Price', 'Rating', 'Main Category',  'Sub Category', 'Discount', 'Popularity']\n",
    "        feature_matrix = self.df[features]\n",
    "        self.similarity_matrix = cosine_similarity(feature_matrix)\n",
    "    \n",
    "    def recommend_products(self, product_name, n=5):\n",
    "        if self.similarity_matrix is None:\n",
    "            self.prepare_similarity_matrix()\n",
    "        idx = self.df[self.df['Product Name'] == product_name].index[0]\n",
    "        sim_scores = list(enumerate(self.similarity_matrix[idx]))\n",
    "        sim_scores = sorted(sim_scores, key=lambda x: x[1], reverse=True)[1:n+1]\n",
    "        product_indices = [i[0] for i in sim_scores]\n",
    "        return self.df.iloc[product_indices]\n",
    "    \n",
    "# Initialize recommenders\n",
    "content_rec = ContentBasedRecommender(df)\n",
    "content_rec.prepare_similarity_matrix()"
   ]
  },
  {
   "cell_type": "markdown",
   "id": "685e8790",
   "metadata": {},
   "source": [
    "## Testing Content-Based Recommendation"
   ]
  },
  {
   "cell_type": "code",
   "execution_count": 4,
   "id": "82ec7eb5",
   "metadata": {},
   "outputs": [],
   "source": [
    "from difflib import get_close_matches\n",
    "\n",
    "def get_matching_product(user_query, df, top_n=1):\n",
    "    \"\"\"Find product names matching user input based on keywords.\"\"\"\n",
    "    user_query = user_query.lower()\n",
    "    matches = df[df['Product Name'].str.lower().str.contains(user_query)]\n",
    "\n",
    "    if not matches.empty:\n",
    "        return matches['Product Name'].values[:top_n]\n",
    "    \n",
    "    # fallback: fuzzy match\n",
    "    all_names = df['Product Name'].tolist()\n",
    "    fuzzy_matches = get_close_matches(user_query, all_names, n=top_n, cutoff=0.3)\n",
    "    return fuzzy_matches"
   ]
  },
  {
   "cell_type": "code",
   "execution_count": 5,
   "id": "157c53b4",
   "metadata": {},
   "outputs": [
    {
     "name": "stdout",
     "output_type": "stream",
     "text": [
      "\n",
      "Showing recommendations based on: Chander-Brahmbhatt Numquam Pro Headphones 7\n",
      "\n",
      "Top 5 Recommended Products: \n",
      "2848                 Khalsa Ltd Illum Ultra Headphones 15\n",
      "1409           Upadhyay LLC Repudiandae Lite Headphones 9\n",
      "3073                Vora-Iyengar Quidem Plus Headphones 6\n",
      "1515                Doshi-Kuruvilla Cum Lite Headphones 1\n",
      "2128    Chauhan, Chakrabarti and Patil Nemo Ultra Head...\n",
      "Name: Product Name, dtype: object\n"
     ]
    }
   ],
   "source": [
    "user_input = input(\"Enter a product name to get recommendation: \")   # e.g : Headphones\n",
    "\n",
    "matching_products = get_matching_product(user_input, df, top_n=1)\n",
    "\n",
    "if matching_products:\n",
    "    print(f\"\\nShowing recommendations based on: {matching_products[0]}\")\n",
    "    recommendations = content_rec.recommend_products(matching_products[0], n=5)\n",
    "    print(\"\\nTop 5 Recommended Products: \")\n",
    "    print(recommendations['Product Name'])\n",
    "else:\n",
    "    print(\"No matchine product found, Try searching with different words.\")"
   ]
  },
  {
   "cell_type": "markdown",
   "id": "34d2e2a2",
   "metadata": {},
   "source": [
    "## 4. Collaborative Filtering (User-Item Matrix approach)"
   ]
  },
  {
   "cell_type": "code",
   "execution_count": 39,
   "id": "48f68e4b",
   "metadata": {},
   "outputs": [],
   "source": [
    "class CollaborativeFilteringRecommender:\n",
    "    def __init__(self, data):\n",
    "        self.df = data\n",
    "        self.model = None\n",
    "        self.user_item_matrix = None\n",
    "\n",
    "    def create_user_item_matrix(self):\n",
    "        # Creating synthetic user-item interactions\n",
    "        user_ids = []\n",
    "        products_ids = []\n",
    "        ratings = []\n",
    "\n",
    "        for _, row in self.df.iterrows():\n",
    "            num_users = max(1, int(row['Number of Buyers'] / 1000)) # scale down\n",
    "            for user_num in range(num_users):\n",
    "                user_id = f\"user_{user_num}\"\n",
    "                rating = max(1, min(5, row['Rating'] * 5 + np.random.normal(0, 0.5)))\n",
    "                user_ids.append(user_id)\n",
    "                products_ids.append(row['Product Name'])\n",
    "                ratings.append(rating)\n",
    "        \n",
    "        # Creating DataFrame\n",
    "        interactions = pd.DataFrame({\n",
    "            'user_id': user_ids,\n",
    "            'product_id': products_ids,\n",
    "            'rating' : ratings\n",
    "        })\n",
    "        # Creating Pivot Table\n",
    "        self.user_item_matrix = interactions.pivot_table(\n",
    "            index='user_id',\n",
    "            columns='product_id',\n",
    "            values='rating'\n",
    "        ).fillna(0)\n",
    "\n",
    "        # Convert to spare matrix\n",
    "        self.sparse_matrix = csr_matrix(self.user_item_matrix.values)\n",
    "    \n",
    "    def train_model(self):\n",
    "        if self.user_item_matrix is None:\n",
    "            self.create_user_item_matrix()\n",
    "        \n",
    "        # KNN model for user-based collaborative filtering\n",
    "        self.model = NearestNeighbors(metric='cosine', algorithm='brute')\n",
    "        self.model.fit(self.sparse_matrix)\n",
    "    \n",
    "    def recommend_products(self, user_id, n=5):\n",
    "        if self.model is None:\n",
    "            self.train_model()\n",
    "\n",
    "        # Find similar users\n",
    "        user_idx = self.user_item_matrix.index.get_loc(user_id)\n",
    "        distances, indices = self.model.kneighbors(\n",
    "            self.sparse_matrix[user_idx], n_neighbors=n+1\n",
    "        )\n",
    "\n",
    "        # Get products from similar users\n",
    "        similar_users = self.user_item_matrix.iloc[indices[0]].index[1:]\n",
    "        recommendations = self.user_item_matrix.loc[similar_users].mean(axis=0)\n",
    "        recommendations = recommendations.sort_values(ascending=False)[:n]\n",
    "\n",
    "        # Get product details\n",
    "        recommended_products = []\n",
    "        for product_id in recommendations.index:\n",
    "            product_details = self.df[self.df['Product Name'] == product_id].iloc[0]\n",
    "            recommended_products.append(product_details)\n",
    "\n",
    "        return pd.DataFrame(recommended_products)\n",
    "\n",
    "\n",
    "# Initialize recommenders\n",
    "collab_rec = CollaborativeFilteringRecommender(df)\n",
    "collab_rec.train_model()      \n"
   ]
  },
  {
   "cell_type": "markdown",
   "id": "0db231ff",
   "metadata": {},
   "source": [
    "## 5. Save Models"
   ]
  },
  {
   "cell_type": "code",
   "execution_count": 41,
   "id": "a14a1d3a",
   "metadata": {},
   "outputs": [],
   "source": [
    "with open('content_based_model.pkl', 'wb') as f:\n",
    "    pickle.dump(content_rec, f)"
   ]
  },
  {
   "cell_type": "code",
   "execution_count": 42,
   "id": "80e0b573",
   "metadata": {},
   "outputs": [],
   "source": [
    "with open('collab_filter_model.pkl', 'wb') as f:\n",
    "    pickle.dump(collab_rec, f)"
   ]
  },
  {
   "cell_type": "code",
   "execution_count": null,
   "id": "56b038a0",
   "metadata": {},
   "outputs": [],
   "source": []
  }
 ],
 "metadata": {
  "kernelspec": {
   "display_name": "venv",
   "language": "python",
   "name": "python3"
  },
  "language_info": {
   "codemirror_mode": {
    "name": "ipython",
    "version": 3
   },
   "file_extension": ".py",
   "mimetype": "text/x-python",
   "name": "python",
   "nbconvert_exporter": "python",
   "pygments_lexer": "ipython3",
   "version": "3.13.2"
  }
 },
 "nbformat": 4,
 "nbformat_minor": 5
}
