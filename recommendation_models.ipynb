{
 "cells": [
  {
   "cell_type": "markdown",
   "id": "faa6d721",
   "metadata": {},
   "source": [
    "# Recommendation Model\n",
    "1. [Import Libraries](#1)\n",
    "2. [Load Processed Data](#2)\n",
    "3. [Content-Based Filtering](#3)\n",
    "4. [Collaborative Filtering](#4)\n",
    "5. [Initialize Recommenders](#5)\n",
    "6. [Saving Models](#6)"
   ]
  },
  {
   "cell_type": "markdown",
   "id": "5bb16b59",
   "metadata": {},
   "source": [
    "<a name=\"1\"></a>\n",
    "## 1. Import Libraries"
   ]
  },
  {
   "cell_type": "code",
   "execution_count": 1,
   "id": "c798618b",
   "metadata": {},
   "outputs": [],
   "source": [
    "import pandas as pd\n",
    "import numpy as np\n",
    "from sklearn.metrics.pairwise import cosine_similarity\n",
    "from sklearn.neighbors import NearestNeighbors\n",
    "from scipy.sparse import csr_matrix\n",
    "import pickle"
   ]
  },
  {
   "cell_type": "markdown",
   "id": "7321859e",
   "metadata": {},
   "source": [
    "<a name = \"2\" ></a>\n",
    "## 2. Loading Processesd Data"
   ]
  },
  {
   "cell_type": "code",
   "execution_count": 2,
   "id": "445a7882",
   "metadata": {},
   "outputs": [],
   "source": [
    "df = pd.read_csv('processed_products.csv')"
   ]
  },
  {
   "cell_type": "markdown",
   "id": "b30f6fc8",
   "metadata": {},
   "source": [
    "<a name=\"3\"></a>\n",
    "## 3. Content-Based Filtering"
   ]
  },
  {
   "cell_type": "code",
   "execution_count": 5,
   "id": "467392d2",
   "metadata": {},
   "outputs": [],
   "source": [
    "class ContentBasedRecommender:\n",
    "    def __init__(self, data):\n",
    "        self.df = data\n",
    "        self.similarity_matrix = None\n",
    "\n",
    "    def prepare_similarity_matrix(self):\n",
    "        features = ['Price', 'Rating', 'Main Category',  'Sub Category', 'Discount', 'Popularity']\n",
    "        feature_matrix = self.df[features]\n",
    "        self.similarity_matrix = cosine_similarity(feature_matrix)\n",
    "    \n",
    "    def recommend_products(self, product_name, n=5):\n",
    "        if self.similarity_matrix is None:\n",
    "            self.prepare_similarity_matrix()\n",
    "        idx = self.df[self.df['Product Name'] == product_name].index[0]\n",
    "        sim_scores = list(enumerate(self.similarity_matrix[idx]))\n",
    "        sim_scores = sorted(sim_scores, key=lambda x: x[1], reverse=True)[1:n+1]\n",
    "        product_indices = [i[0] for i in sim_scores]\n",
    "        return self.df.iloc[product_indices]\n",
    "    \n",
    "# Initialize recommenders\n",
    "content_rec = ContentBasedRecommender(df)\n",
    "content_rec.prepare_similarity_matrix()"
   ]
  },
  {
   "cell_type": "markdown",
   "id": "685e8790",
   "metadata": {},
   "source": [
    "## Testing Content-Based Recommendation"
   ]
  },
  {
   "cell_type": "code",
   "execution_count": 13,
   "id": "82ec7eb5",
   "metadata": {},
   "outputs": [],
   "source": [
    "from difflib import get_close_matches\n",
    "\n",
    "def get_matching_product(user_query, df, top_n=1):\n",
    "    \"\"\"Find product names matching user input based on keywords.\"\"\"\n",
    "    user_query = user_query.lower()\n",
    "    matches = df[df['Product Name'].str.lower().str.contains(user_query)]\n",
    "\n",
    "    if not matches.empty:\n",
    "        return matches['Product Name'].values[:top_n]\n",
    "    \n",
    "    # fallback: fuzzy match\n",
    "    all_names = df['Product Name'].tolist()\n",
    "    fuzzy_matches = get_close_matches(user_query, all_names, n=top_n, cutoff=0.3)\n",
    "    return fuzzy_matches"
   ]
  },
  {
   "cell_type": "code",
   "execution_count": 26,
   "id": "157c53b4",
   "metadata": {},
   "outputs": [
    {
     "name": "stdout",
     "output_type": "stream",
     "text": [
      "\n",
      "Showing recommendations based on: Chander-Brahmbhatt Numquam Pro Headphones 7\n",
      "\n",
      "Top 5 Recommended Products: \n",
      "2848                 Khalsa Ltd Illum Ultra Headphones 15\n",
      "1409           Upadhyay LLC Repudiandae Lite Headphones 9\n",
      "3073                Vora-Iyengar Quidem Plus Headphones 6\n",
      "1515                Doshi-Kuruvilla Cum Lite Headphones 1\n",
      "2128    Chauhan, Chakrabarti and Patil Nemo Ultra Head...\n",
      "Name: Product Name, dtype: object\n"
     ]
    }
   ],
   "source": [
    "user_input = input(\"Enter a product name to get recommendation: \")\n",
    "\n",
    "matching_products = get_matching_product(user_input, df, top_n=1)\n",
    "\n",
    "if matching_products:\n",
    "    print(f\"\\nShowing recommendations based on: {matching_products[0]}\")\n",
    "    recommendations = content_rec.recommend_products(matching_products[0], n=5)\n",
    "    print(\"\\nTop 5 Recommended Products: \")\n",
    "    print(recommendations['Product Name'])\n",
    "else:\n",
    "    print(\"No matchine product found, Try searching with different words.\")"
   ]
  },
  {
   "cell_type": "code",
   "execution_count": null,
   "id": "34d2e2a2",
   "metadata": {},
   "outputs": [],
   "source": []
  },
  {
   "cell_type": "code",
   "execution_count": null,
   "id": "d504dac8",
   "metadata": {},
   "outputs": [],
   "source": []
  },
  {
   "cell_type": "code",
   "execution_count": null,
   "id": "48f68e4b",
   "metadata": {},
   "outputs": [],
   "source": []
  },
  {
   "cell_type": "code",
   "execution_count": null,
   "id": "56792b80",
   "metadata": {},
   "outputs": [],
   "source": []
  },
  {
   "cell_type": "code",
   "execution_count": null,
   "id": "75581238",
   "metadata": {},
   "outputs": [],
   "source": []
  }
 ],
 "metadata": {
  "kernelspec": {
   "display_name": "venv",
   "language": "python",
   "name": "python3"
  },
  "language_info": {
   "codemirror_mode": {
    "name": "ipython",
    "version": 3
   },
   "file_extension": ".py",
   "mimetype": "text/x-python",
   "name": "python",
   "nbconvert_exporter": "python",
   "pygments_lexer": "ipython3",
   "version": "3.13.2"
  }
 },
 "nbformat": 4,
 "nbformat_minor": 5
}
