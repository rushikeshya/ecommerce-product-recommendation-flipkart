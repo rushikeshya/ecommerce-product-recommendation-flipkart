{
 "cells": [
  {
   "cell_type": "code",
   "execution_count": 4,
   "id": "2353b2d1",
   "metadata": {},
   "outputs": [],
   "source": [
    "import pandas as pd\n",
    "import numpy as np\n",
    "from sklearn.preprocessing import MinMaxScaler, LabelEncoder\n",
    "import matplotlib.pyplot as plt\n",
    "import seaborn as sns\n",
    "from scipy.sparse import csr_matrix\n",
    "from sklearn.neighbors import NearestNeighbors\n",
    "import pickle\n",
    "\n",
    "# Load the dataset\n",
    "df = pd.read_csv('flipkart_products_20250405.csv')\n",
    "\n",
    "# Data Cleaning\n",
    "df = df.drop_duplicates()\n",
    "df['Price (₹)'] = df['Price (₹)'].astype(float)\n",
    "\n",
    "# Feature Engineering\n",
    "df['Popularity'] = df['Number of Buyers'] * df['Rating (★)']\n",
    "\n",
    "# Create price categories\n",
    "bins = [0, 1000, 5000, 10000, 20000, 50000, 100000, 200000, float('inf')]\n",
    "labels = ['<1k', '1k-5k', '5k-10k', '10k-20k', '20k-50k', '50k-100k', '100k-200k', '>200k']\n",
    "df['Price_Category'] = pd.cut(df['Price (₹)'], bins=bins, labels=labels)\n",
    "\n",
    "# Normalize numerical features\n",
    "scaler = MinMaxScaler()\n",
    "numerical_features = ['Price (₹)', 'Rating (★)', 'Number of Buyers', 'Total Sold', 'Available Stock', 'Discount (%)', 'Popularity']\n",
    "df[numerical_features] = scaler.fit_transform(df[numerical_features])\n",
    "\n",
    "# Encode categorical features\n",
    "categorical_features = ['Main Category', 'Sub Category', 'Seller', 'Return Policy', 'Price_Category']\n",
    "label_encoders = {}\n",
    "for feature in categorical_features:\n",
    "    le = LabelEncoder()\n",
    "    df[feature] = le.fit_transform(df[feature])\n",
    "    label_encoders[feature] = le\n",
    "\n",
    "# Save processed data\n",
    "df.to_csv('processed_products.csv', index=False)\n",
    "with open('label_encoders.pkl', 'wb') as f:\n",
    "    pickle.dump(label_encoders, f)"
   ]
  },
  {
   "cell_type": "code",
   "execution_count": null,
   "id": "7f0e5e98",
   "metadata": {},
   "outputs": [],
   "source": []
  }
 ],
 "metadata": {
  "kernelspec": {
   "display_name": "venv",
   "language": "python",
   "name": "python3"
  },
  "language_info": {
   "codemirror_mode": {
    "name": "ipython",
    "version": 3
   },
   "file_extension": ".py",
   "mimetype": "text/x-python",
   "name": "python",
   "nbconvert_exporter": "python",
   "pygments_lexer": "ipython3",
   "version": "3.13.2"
  }
 },
 "nbformat": 4,
 "nbformat_minor": 5
}
